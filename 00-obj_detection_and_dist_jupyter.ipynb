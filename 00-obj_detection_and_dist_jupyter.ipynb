{
 "cells": [
  {
   "cell_type": "code",
   "execution_count": 1,
   "id": "0a94ead8",
   "metadata": {},
   "outputs": [
    {
     "name": "stdout",
     "output_type": "stream",
     "text": [
      "Looking in indexes: https://pypi.org/simple, https://pypi.ngc.nvidia.com\n",
      "Requirement already satisfied: opencv-contrib-python==4.5.3.56 in c:\\users\\kiit\\anaconda3\\lib\\site-packages (4.5.3.56)\n",
      "Requirement already satisfied: numpy>=1.19.3 in c:\\users\\kiit\\anaconda3\\lib\\site-packages (from opencv-contrib-python==4.5.3.56) (1.21.5)\n",
      "Note: you may need to restart the kernel to use updated packages.\n"
     ]
    },
    {
     "name": "stderr",
     "output_type": "stream",
     "text": [
      "\n",
      "[notice] A new release of pip is available: 23.3.1 -> 23.3.2\n",
      "[notice] To update, run: python.exe -m pip install --upgrade pip\n"
     ]
    }
   ],
   "source": [
    "pip install opencv-contrib-python==4.5.3.56"
   ]
  },
  {
   "cell_type": "code",
   "execution_count": 2,
   "id": "625c2911",
   "metadata": {},
   "outputs": [],
   "source": [
    "import cv2 as cv # computer vision library for image processing\n",
    "import pyttsx3 # for text to speech conversion\n",
    "import numpy as np"
   ]
  },
  {
   "cell_type": "code",
   "execution_count": 3,
   "id": "eb8595d4",
   "metadata": {},
   "outputs": [],
   "source": [
    "# Distance constants \n",
    "KNOWN_DISTANCE = 114.3 #CENTIMETERS\n",
    "PERSON_WIDTH = 37 #CENTIMETERS\n",
    "MOBILE_WIDTH = 7 #CENTIMETERS\n",
    "BOTTLE_WIDTH = 8 #CENTIMETERS\n",
    "\n",
    "# Object detector constant \n",
    "CONFIDENCE_THRESHOLD = 0.5\n",
    "NMS_THRESHOLD = 0.3\n",
    "\n",
    "# colors for object detected\n",
    "COLORS = [(255,0,0),(255,0,255),(0, 255, 255), (255, 255, 0), (0, 255, 0), (255, 0, 0)]\n",
    "# COLORS = [red, purple, cyan, brown, green, red] \n",
    "\n",
    "GREEN =(0,255,0) # To show the distance text above the object in GREEN\n",
    "BLACK =(0,0,0) # To show the bounding box (rectangle) in BLACK\n",
    "\n",
    "# defining fonts \n",
    "FONTS = cv.FONT_HERSHEY_COMPLEX\n",
    "\n",
    "# getting class names from classes.txt file \n",
    "class_names = []\n",
    "#with open(\"C:\\\\Users\\\\KIIT\\\\MyPython\\\\PROJECTS\\\\object_detection+dist\\\\Yolov4-Detector-and-Distance-Estimator-master\\\\classes.txt\", \"r\") as f:\n",
    "with open(\"classes.txt\", \"r\") as f:\n",
    "    class_names = [cname.strip() for cname in f.readlines()]\n",
    "\n",
    "# setting up opencv net\n",
    "\n",
    "yoloNet = cv.dnn.readNet('yolov4-tiny.weights', 'yolov4-tiny.cfg')\n",
    "# Reads deep learning network represented in one of the supported formats.\n",
    "# For more info, check the links below:\n",
    "# https://docs.opencv.org/3.4/d6/d0f/group__dnn.html#ga3b34fe7a29494a6a4295c169a7d32422\n",
    "# https://stackoverflow.com/questions/50390836/understanding-darknets-yolo-cfg-config-files\n",
    "\n",
    "yoloNet.setPreferableBackend(cv.dnn.DNN_BACKEND_CUDA)\n",
    "yoloNet.setPreferableTarget(cv.dnn.DNN_TARGET_CUDA_FP16)\n",
    "\n",
    "model = cv.dnn_DetectionModel(yoloNet)\n",
    "\n",
    "'''\n",
    "scale -> scale factor (1/255 to scale the pixel values to [0..1])\n",
    "size -> 416x416 square image\n",
    "\n",
    "(swapBR=True) -> since OpenCV uses BGR. \n",
    "    OpenCV assumes images are in BGR channel order; \n",
    "    however, the `mean` value assumes we are using RGB order. \n",
    "    To resolve this discrepancy we can swap the R and B channels in image\n",
    "    by setting this value to `True`.\n",
    "    By default OpenCV performs this channel swapping for us.\n",
    "'''\n",
    "model.setInputParams(size=(416, 416), scale=1/255, swapRB=True)"
   ]
  },
  {
   "cell_type": "code",
   "execution_count": 4,
   "id": "ba3d91d8",
   "metadata": {},
   "outputs": [],
   "source": [
    "# object detector function /method\n",
    "def object_detector(image):\n",
    "    classes, scores, boxes = model.detect(image, CONFIDENCE_THRESHOLD, NMS_THRESHOLD)\n",
    "    # creating empty list to add objects data\n",
    "    data_list = []\n",
    "    for (classid, score, box) in zip(classes, scores, boxes):\n",
    "        \n",
    "        # define color of each, object based on its class id\n",
    "        '''\n",
    "        80 object names are stored in classes.txt and 6 colours are stored in var COLORS\n",
    "        For 1st object name (person) -> 0 % 6 = 0. So colour[0] = RED will be chosen\n",
    "        For 2nd object name (bicycle) -> 1 % 6 = 1. So colour[1] = PURPLE will be chosen\n",
    "        And so on...\n",
    "        '''\n",
    "        color= COLORS[int(classid) % len(COLORS)]\n",
    "        \n",
    "        # label -> stores class id and confidence score\n",
    "        label = \"%s : %f\" % (class_names[classid[0]], score)\n",
    "\n",
    "        # draw rectangle on and label on object\n",
    "        cv.rectangle(image, box, color, 2)\n",
    "        cv.putText(image, label, (box[0], box[1]-14), FONTS, 0.5, color, 2)\n",
    "    \n",
    "        # getting the data \n",
    "        # 1: class name  2: object width in pixels, 3: position where have to draw text(distance)\n",
    "        if classid == 0: # person class id\n",
    "            data_list.append([class_names[classid[0]], box[2], (box[0], box[1]-2)])\n",
    "        elif classid == 39: # bottle class id\n",
    "            data_list.append([class_names[classid[0]], box[2], (box[0], box[1]-2)])\n",
    "        elif classid == 67: # cell phone class id\n",
    "            data_list.append([class_names[classid[0]], box[2], (box[0], box[1]-2)])\n",
    "        # if you want include more classes then you have to simply add more [elif] statements here\n",
    "        # returning list containing the object data. \n",
    "    return data_list"
   ]
  },
  {
   "cell_type": "code",
   "execution_count": 5,
   "id": "853b5e2f",
   "metadata": {},
   "outputs": [],
   "source": [
    "# FOR FINDING FOCAL LENGTH OF CAM LENS\n",
    "def focal_length_finder (measured_distance, real_width, width_in_rf):\n",
    "    focal_length = (width_in_rf * measured_distance) / real_width\n",
    "    print(\"FOCAL LENGTH: \", focal_length)\n",
    "    # focal_length = 560\n",
    "    return focal_length"
   ]
  },
  {
   "cell_type": "code",
   "execution_count": 6,
   "id": "79ff8401",
   "metadata": {},
   "outputs": [],
   "source": [
    "# FOR FINDING DISTANCE OF OBJECT FROM CAM\n",
    "def distance_finder(focal_length, real_object_width, width_in_frame):\n",
    "    distance = (real_object_width * focal_length) / width_in_frame\n",
    "    return distance"
   ]
  },
  {
   "cell_type": "code",
   "execution_count": 7,
   "id": "b5d49acc",
   "metadata": {},
   "outputs": [
    {
     "name": "stdout",
     "output_type": "stream",
     "text": [
      "[['person', 440, (50, 134)], ['cell phone', 72, (206, 296)]]\n",
      "[['person', 367, (135, 134)]]\n",
      "Person width in pixels : 367) mobile width in pixel: 72\n",
      "FOCAL LENGTH:  1133.7324324324325\n"
     ]
    }
   ],
   "source": [
    "# FOR FINDING FOCAL LENGTH OF THE CAMERA LENS\n",
    "\n",
    "# reading the reference image from dir \n",
    "ref_person = cv.imread('ReferenceImages/image14.png')\n",
    "ref_mobile = cv.imread('ReferenceImages/image4.png')\n",
    "\n",
    "mobile_data = object_detector(ref_mobile)\n",
    "'''\n",
    "displays [['person', 440, (50, 134)], ['cell phone', 72, (206, 296)]]\n",
    "440 -> pixel width of person ; (50, 134) -> coordinates of person in image\n",
    "72 -> pixel width of person ; (206, 296) -> coordinates of cell phone in image\n",
    "'''\n",
    "print(mobile_data)\n",
    "'''\n",
    "[['person', 440, (50, 134)], ['cell phone', 72, (206, 296)]]\n",
    "If we check indices [1][1] => 72\n",
    "So mobile_data[1][1] = 72\n",
    "'''\n",
    "mobile_width_in_rf = mobile_data[1][1]\n",
    "person_data = object_detector(ref_person)\n",
    "\n",
    "'''\n",
    "displays [['person', 367, (135, 134)]]\n",
    "'''\n",
    "print(person_data)\n",
    "person_width_in_rf = person_data[0][1]\n",
    "\n",
    "print(f\"Person width in pixels : {person_width_in_rf}) mobile width in pixel: {mobile_width_in_rf}\")\n",
    "# finding focal length \n",
    "focal_length = focal_length_finder(KNOWN_DISTANCE, PERSON_WIDTH, person_width_in_rf)\n",
    "#focal_length_mobile = focal_length_finder(KNOWN_DISTANCE, MOBILE_WIDTH, mobile_width_in_rf)"
   ]
  },
  {
   "cell_type": "code",
   "execution_count": 8,
   "id": "479db3ba",
   "metadata": {},
   "outputs": [],
   "source": [
    "def text_to_speech(string):\n",
    "    text_speech = pyttsx3.init()\n",
    "    text_speech.say(string)\n",
    "    text_speech.runAndWait()"
   ]
  },
  {
   "cell_type": "code",
   "execution_count": 9,
   "id": "0b36ca28",
   "metadata": {},
   "outputs": [],
   "source": [
    "def calc_announce_store_dist(obj_info, width):\n",
    "    print(obj_info)\n",
    "    dist = distance_finder(focal_length, width, obj_info[1])\n",
    "    approx_dist = round(dist, 0)\n",
    "    dist_text = f'{obj_info[0]} detected {approx_dist} cm'\n",
    "    text_to_speech(dist_text)\n",
    "    return dist # required for drawing bounding box later"
   ]
  },
  {
   "cell_type": "code",
   "execution_count": 10,
   "id": "fbd56bee",
   "metadata": {},
   "outputs": [],
   "source": [
    "# ACTIVATING AND IMPLEMENTING IN CAMERA\n",
    "\n",
    "cap = cv.VideoCapture(0) # capturing using cam of pc\n",
    "\n",
    "while True:\n",
    "    ret, frame = cap.read()\n",
    "    \n",
    "    '''\n",
    "    if a person comes in front of the camera, it displays \n",
    "    [['person', 532, (54, 124)]]\n",
    "    Same for other objects\n",
    "    '''\n",
    "    data = object_detector(frame) \n",
    "    #print(data)\n",
    "    \n",
    "#     for d in data:\n",
    "        \n",
    "#         if d[0] == 'person':\n",
    "#             x, y = d[2]\n",
    "#             distance = calc_announce_store_dist(d, PERSON_WIDTH)\n",
    "        \n",
    "#         elif d[0] == 'cell phone':\n",
    "#             x, y = d[2]\n",
    "#             distance = calc_announce_store_dist(d, MOBILE_WIDTH)\n",
    "            \n",
    "#         elif d[0] == 'bottle':\n",
    "#             x, y = d[2]\n",
    "#             distance = calc_announce_store_dist(d, BOTTLE_WIDTH)\n",
    "            \n",
    "#         cv.rectangle(frame, (x, y-3), (x+150, y+23), BLACK, -1)\n",
    "#         cv.putText(frame, f'DIST: {round(distance, 2)} CM', (x+5,y+13), FONTS, 0.48, GREEN, 2)    \n",
    "    \n",
    "    cv.imshow('frame', frame)\n",
    "    \n",
    "    key = cv.waitKey(1)\n",
    "    if key == ord('q'):\n",
    "        break\n",
    "cv.destroyAllWindows()\n",
    "cap.release()"
   ]
  },
  {
   "cell_type": "code",
   "execution_count": null,
   "id": "4d92045b",
   "metadata": {},
   "outputs": [],
   "source": []
  }
 ],
 "metadata": {
  "kernelspec": {
   "display_name": "Python 3 (ipykernel)",
   "language": "python",
   "name": "python3"
  },
  "language_info": {
   "codemirror_mode": {
    "name": "ipython",
    "version": 3
   },
   "file_extension": ".py",
   "mimetype": "text/x-python",
   "name": "python",
   "nbconvert_exporter": "python",
   "pygments_lexer": "ipython3",
   "version": "3.9.13"
  }
 },
 "nbformat": 4,
 "nbformat_minor": 5
}
